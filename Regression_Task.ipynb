{
 "cells": [
  {
   "cell_type": "code",
   "execution_count": 35,
   "id": "92497e85-b3aa-4c1a-9cb8-cf198af8e088",
   "metadata": {},
   "outputs": [],
   "source": [
    "import pandas as pd\n",
    "from sklearn.model_selection import train_test_split\n",
    "from sklearn.linear_model import LinearRegression\n",
    "from sklearn.metrics import mean_squared_error\n",
    "from sklearn.preprocessing import MinMaxScaler\n",
    "from sklearn.metrics import mean_absolute_error\n",
    "from sklearn.linear_model import Ridge\n",
    "from sklearn.linear_model import Lasso\n",
    "import numpy as np"
   ]
  },
  {
   "cell_type": "code",
   "execution_count": 36,
   "id": "7f8a86b7-8849-4e94-a7ea-d11b6e608720",
   "metadata": {},
   "outputs": [],
   "source": [
    "dataset=pd.read_csv(\"C:\\\\Users\\\\Sathya Sai\\\\Downloads\\\\energydata_complete.csv\")"
   ]
  },
  {
   "cell_type": "code",
   "execution_count": 37,
   "id": "bc1212e1-4566-4708-81a5-c120d4591dfe",
   "metadata": {},
   "outputs": [
    {
     "name": "stdout",
     "output_type": "stream",
     "text": [
      "Root Mean Squared Error: 3.633\n"
     ]
    }
   ],
   "source": [
    "#question-17\n",
    "X = dataset['T2'].values.reshape(-1, 1)  # Feature: Temperature in living room (T2)\n",
    "y = dataset['T6'].values  # Target: Temperature outside the building (T6)\n",
    "\n",
    "# Split the data into training and testing sets\n",
    "X_train, X_test, y_train, y_test = train_test_split(X, y, test_size=0.2, random_state=42)\n",
    "\n",
    "# Fit a linear regression model\n",
    "model = LinearRegression()\n",
    "model.fit(X_train, y_train)\n",
    "\n",
    "# Make predictions on the testing data\n",
    "y_pred = model.predict(X_test)\n",
    "\n",
    "# Calculate RMSE\n",
    "rmse = np.sqrt(mean_squared_error(y_test, y_pred))\n",
    "\n",
    "# Print RMSE rounded to 3 decimal places\n",
    "print(f\"Root Mean Squared Error: {rmse:.3f}\")"
   ]
  },
  {
   "cell_type": "code",
   "execution_count": 38,
   "id": "04106e6c-c017-4d59-b67a-a2832db4b042",
   "metadata": {},
   "outputs": [
    {
     "name": "stdout",
     "output_type": "stream",
     "text": [
      "Mean Absolute Error for the training set: 53.742\n"
     ]
    }
   ],
   "source": [
    "#question-18\n",
    "X = dataset.drop(columns=[\"Appliances\",\"date\",\"lights\"]).values\n",
    "y = dataset[\"Appliances\"].values\n",
    "\n",
    "# Split the data into training and testing sets\n",
    "X_train, X_test, y_train, y_test = train_test_split(X, y, test_size=0.3, random_state=42)\n",
    "\n",
    "# Normalize the data using MinMaxScaler\n",
    "scaler = MinMaxScaler()\n",
    "X_train_normalized = scaler.fit_transform(X_train)\n",
    "X_test_normalized = scaler.transform(X_test)\n",
    "\n",
    "# Fit a multiple linear regression model on the training set\n",
    "model = LinearRegression()\n",
    "model.fit(X_train_normalized, y_train)\n",
    "\n",
    "# Make predictions on the training set\n",
    "y_train_pred = model.predict(X_train_normalized)\n",
    "\n",
    "# Calculate Mean Absolute Error (MAE) for the training set\n",
    "mae_train = mean_absolute_error(y_train, y_train_pred)\n",
    "\n",
    "# Print MAE for the training set rounded to 3 decimal places\n",
    "print(f\"Mean Absolute Error for the training set: {mae_train:.3f}\")"
   ]
  },
  {
   "cell_type": "code",
   "execution_count": 39,
   "id": "ecdea280-7586-4149-95c1-9fc16a656458",
   "metadata": {},
   "outputs": [
    {
     "name": "stdout",
     "output_type": "stream",
     "text": [
      "Root Mean Squared Error: 95.216\n"
     ]
    }
   ],
   "source": [
    "#question-19\n",
    "rmse_2 = np.sqrt(mean_squared_error(y_train, y_train_pred))\n",
    "\n",
    "print(f\"Root Mean Squared Error: {rmse_2:.3f}\")"
   ]
  },
  {
   "cell_type": "code",
   "execution_count": 40,
   "id": "227703ba-ee44-47c4-95bd-4fdaece6b660",
   "metadata": {},
   "outputs": [
    {
     "name": "stdout",
     "output_type": "stream",
     "text": [
      "Mean Absolute Error for the training set using Regression model : 53.643\n"
     ]
    }
   ],
   "source": [
    "#question-20\n",
    "y_test_pred = model.predict(X_test_normalized)\n",
    "\n",
    "mae_train_2 = mean_absolute_error(y_test, y_test_pred)\n",
    "\n",
    "print(f\"Mean Absolute Error for the training set using Regression model : {mae_train_2:.3f}\")"
   ]
  },
  {
   "cell_type": "code",
   "execution_count": 41,
   "id": "b45b4e65-3071-4c31-b38e-9af2689f0d0c",
   "metadata": {},
   "outputs": [
    {
     "name": "stdout",
     "output_type": "stream",
     "text": [
      "Root Mean Squared Error: 93.640\n"
     ]
    }
   ],
   "source": [
    "#question-21\n",
    "rmse_3 = np.sqrt(mean_squared_error(y_test, y_test_pred))\n",
    "\n",
    "print(f\"Root Mean Squared Error: {rmse_3:.3f}\")"
   ]
  },
  {
   "cell_type": "code",
   "execution_count": 42,
   "id": "1dfccfb4-e013-426d-901d-2dc67dc497bc",
   "metadata": {},
   "outputs": [
    {
     "name": "stdout",
     "output_type": "stream",
     "text": [
      "Root Mean Squared Error for the test set: 93.709\n"
     ]
    }
   ],
   "source": [
    "#question-23\n",
    "ridge_model = Ridge()\n",
    "ridge_model.fit(X_train_normalized, y_train)\n",
    "\n",
    "y_test_pred = ridge_model.predict(X_test_normalized)\n",
    "\n",
    "rmse_test = np.sqrt(mean_squared_error(y_test, y_test_pred))\n",
    "\n",
    "print(f\"Root Mean Squared Error for the test set: {rmse_test:.3f}\")"
   ]
  },
  {
   "cell_type": "code",
   "execution_count": 43,
   "id": "0cc0993b-2615-4e09-ab6f-2e6fb4916bb6",
   "metadata": {},
   "outputs": [
    {
     "name": "stdout",
     "output_type": "stream",
     "text": [
      "Number of features with non-zero weights in coeffecients: 4\n"
     ]
    }
   ],
   "source": [
    "#question-24\n",
    "lasso_model = Lasso()\n",
    "lasso_model.fit(X_train_normalized, y_train)\n",
    "\n",
    "feature_weights = lasso_model.coef_\n",
    "\n",
    "num_non_zero_features = np.sum(feature_weights != 0)\n",
    "\n",
    "print(f\"Number of features with non-zero weights in coeffecients: {num_non_zero_features}\")"
   ]
  },
  {
   "cell_type": "code",
   "execution_count": 44,
   "id": "4d7a8c90-874a-4f5e-8648-fef49633f520",
   "metadata": {},
   "outputs": [
    {
     "name": "stdout",
     "output_type": "stream",
     "text": [
      "RMSE with Lasso Regression on the test set : 99.424\n"
     ]
    }
   ],
   "source": [
    "#question-25\n",
    "y_test_pred = lasso_model.predict(X_test_normalized)\n",
    "rmse_test = np.sqrt(mean_squared_error(y_test, y_test_pred))\n",
    "print(f\"RMSE with Lasso Regression on the test set : {rmse_test:.3f}\")"
   ]
  },
  {
   "cell_type": "code",
   "execution_count": null,
   "id": "c66d5268-ad8d-4abe-8cd3-bd27d14dc956",
   "metadata": {},
   "outputs": [],
   "source": []
  }
 ],
 "metadata": {
  "kernelspec": {
   "display_name": "Python 3 (ipykernel)",
   "language": "python",
   "name": "python3"
  },
  "language_info": {
   "codemirror_mode": {
    "name": "ipython",
    "version": 3
   },
   "file_extension": ".py",
   "mimetype": "text/x-python",
   "name": "python",
   "nbconvert_exporter": "python",
   "pygments_lexer": "ipython3",
   "version": "3.9.18"
  }
 },
 "nbformat": 4,
 "nbformat_minor": 5
}
